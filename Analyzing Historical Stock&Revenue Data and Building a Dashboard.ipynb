{
 "cells": [
  {
   "cell_type": "markdown",
   "id": "52a73c1c-06a6-4be9-b20e-d8e4a1e7387e",
   "metadata": {
    "tags": []
   },
   "source": [
    "# Analyzing Historical Stock/Revenue Data and Building a Dashboard"
   ]
  },
  {
   "cell_type": "code",
   "execution_count": null,
   "id": "9ce2f5a9-6ca2-4b49-801d-a6cf6b5921ea",
   "metadata": {
    "tags": []
   },
   "outputs": [
    {
     "name": "stdout",
     "output_type": "stream",
     "text": [
      "Collecting yfinance\n",
      "  Downloading yfinance-0.2.18-py2.py3-none-any.whl (60 kB)\n",
      "\u001b[2K     \u001b[90m━━━━━━━━━━━━━━━━━━━━━━━━━━━━━━━━━━━━━━━━\u001b[0m \u001b[32m60.3/60.3 kB\u001b[0m \u001b[31m9.1 MB/s\u001b[0m eta \u001b[36m0:00:00\u001b[0m\n",
      "\u001b[?25hRequirement already satisfied: pandas>=1.3.0 in /home/jupyterlab/conda/envs/python/lib/python3.7/site-packages (from yfinance) (1.3.5)\n",
      "Requirement already satisfied: numpy>=1.16.5 in /home/jupyterlab/conda/envs/python/lib/python3.7/site-packages (from yfinance) (1.21.6)\n",
      "Requirement already satisfied: requests>=2.26 in /home/jupyterlab/conda/envs/python/lib/python3.7/site-packages (from yfinance) (2.29.0)\n",
      "Collecting multitasking>=0.0.7 (from yfinance)\n",
      "  Downloading multitasking-0.0.11-py3-none-any.whl (8.5 kB)\n",
      "Requirement already satisfied: lxml>=4.9.1 in /home/jupyterlab/conda/envs/python/lib/python3.7/site-packages (from yfinance) (4.9.2)\n",
      "Collecting appdirs>=1.4.4 (from yfinance)\n",
      "  Downloading appdirs-1.4.4-py2.py3-none-any.whl (9.6 kB)\n",
      "Requirement already satisfied: pytz>=2022.5 in /home/jupyterlab/conda/envs/python/lib/python3.7/site-packages (from yfinance) (2023.3)\n",
      "Collecting frozendict>=2.3.4 (from yfinance)\n",
      "  Downloading frozendict-2.3.8-cp37-cp37m-manylinux_2_17_x86_64.manylinux2014_x86_64.whl (101 kB)\n",
      "\u001b[2K     \u001b[90m━━━━━━━━━━━━━━━━━━━━━━━━━━━━━━━━━━━━━━━\u001b[0m \u001b[32m101.7/101.7 kB\u001b[0m \u001b[31m4.1 MB/s\u001b[0m eta \u001b[36m0:00:00\u001b[0m\n",
      "\u001b[?25hRequirement already satisfied: cryptography>=3.3.2 in /home/jupyterlab/conda/envs/python/lib/python3.7/site-packages (from yfinance) (38.0.2)\n",
      "Requirement already satisfied: beautifulsoup4>=4.11.1 in /home/jupyterlab/conda/envs/python/lib/python3.7/site-packages (from yfinance) (4.11.1)\n",
      "Collecting html5lib>=1.1 (from yfinance)\n",
      "  Downloading html5lib-1.1-py2.py3-none-any.whl (112 kB)\n",
      "\u001b[2K     \u001b[90m━━━━━━━━━━━━━━━━━━━━━━━━━━━━━━━━━━━━━━\u001b[0m \u001b[32m112.2/112.2 kB\u001b[0m \u001b[31m20.4 MB/s\u001b[0m eta \u001b[36m0:00:00\u001b[0m\n",
      "\u001b[?25hRequirement already satisfied: soupsieve>1.2 in /home/jupyterlab/conda/envs/python/lib/python3.7/site-packages (from beautifulsoup4>=4.11.1->yfinance) (2.3.2.post1)\n",
      "Requirement already satisfied: cffi>=1.12 in /home/jupyterlab/conda/envs/python/lib/python3.7/site-packages (from cryptography>=3.3.2->yfinance) (1.15.1)\n",
      "Requirement already satisfied: six>=1.9 in /home/jupyterlab/conda/envs/python/lib/python3.7/site-packages (from html5lib>=1.1->yfinance) (1.16.0)\n",
      "Requirement already satisfied: webencodings in /home/jupyterlab/conda/envs/python/lib/python3.7/site-packages (from html5lib>=1.1->yfinance) (0.5.1)\n",
      "Requirement already satisfied: python-dateutil>=2.7.3 in /home/jupyterlab/conda/envs/python/lib/python3.7/site-packages (from pandas>=1.3.0->yfinance) (2.8.2)\n",
      "Requirement already satisfied: charset-normalizer<4,>=2 in /home/jupyterlab/conda/envs/python/lib/python3.7/site-packages (from requests>=2.26->yfinance) (3.1.0)\n",
      "Requirement already satisfied: idna<4,>=2.5 in /home/jupyterlab/conda/envs/python/lib/python3.7/site-packages (from requests>=2.26->yfinance) (3.4)\n",
      "Requirement already satisfied: urllib3<1.27,>=1.21.1 in /home/jupyterlab/conda/envs/python/lib/python3.7/site-packages (from requests>=2.26->yfinance) (1.26.15)\n",
      "Requirement already satisfied: certifi>=2017.4.17 in /home/jupyterlab/conda/envs/python/lib/python3.7/site-packages (from requests>=2.26->yfinance) (2022.12.7)\n",
      "Requirement already satisfied: pycparser in /home/jupyterlab/conda/envs/python/lib/python3.7/site-packages (from cffi>=1.12->cryptography>=3.3.2->yfinance) (2.21)\n",
      "Installing collected packages: multitasking, appdirs, html5lib, frozendict, yfinance\n",
      "Successfully installed appdirs-1.4.4 frozendict-2.3.8 html5lib-1.1 multitasking-0.0.11 yfinance-0.2.18\n"
     ]
    }
   ],
   "source": [
    "!pip install yfinance"
   ]
  },
  {
   "cell_type": "markdown",
   "id": "1d23db1b-b7af-4998-b7ae-eca9341d0d30",
   "metadata": {
    "tags": []
   },
   "source": [
    "**Tesla Stock Data Using yfinance**"
   ]
  },
  {
   "cell_type": "code",
   "execution_count": null,
   "id": "9125fa97-7854-4d0f-a283-c92f36fcdac8",
   "metadata": {
    "tags": []
   },
   "outputs": [
    {
     "data": {
      "text/html": [
       "<div>\n",
       "<style scoped>\n",
       "    .dataframe tbody tr th:only-of-type {\n",
       "        vertical-align: middle;\n",
       "    }\n",
       "\n",
       "    .dataframe tbody tr th {\n",
       "        vertical-align: top;\n",
       "    }\n",
       "\n",
       "    .dataframe thead th {\n",
       "        text-align: right;\n",
       "    }\n",
       "</style>\n",
       "<table border=\"1\" class=\"dataframe\">\n",
       "  <thead>\n",
       "    <tr style=\"text-align: right;\">\n",
       "      <th></th>\n",
       "      <th>Date</th>\n",
       "      <th>Open</th>\n",
       "      <th>High</th>\n",
       "      <th>Low</th>\n",
       "      <th>Close</th>\n",
       "      <th>Volume</th>\n",
       "      <th>Dividends</th>\n",
       "      <th>Stock Splits</th>\n",
       "    </tr>\n",
       "  </thead>\n",
       "  <tbody>\n",
       "    <tr>\n",
       "      <th>0</th>\n",
       "      <td>2010-06-29 00:00:00-04:00</td>\n",
       "      <td>1.27</td>\n",
       "      <td>1.67</td>\n",
       "      <td>1.17</td>\n",
       "      <td>1.59</td>\n",
       "      <td>281494500</td>\n",
       "      <td>0.00</td>\n",
       "      <td>0.00</td>\n",
       "    </tr>\n",
       "    <tr>\n",
       "      <th>1</th>\n",
       "      <td>2010-06-30 00:00:00-04:00</td>\n",
       "      <td>1.72</td>\n",
       "      <td>2.03</td>\n",
       "      <td>1.55</td>\n",
       "      <td>1.59</td>\n",
       "      <td>257806500</td>\n",
       "      <td>0.00</td>\n",
       "      <td>0.00</td>\n",
       "    </tr>\n",
       "    <tr>\n",
       "      <th>2</th>\n",
       "      <td>2010-07-01 00:00:00-04:00</td>\n",
       "      <td>1.67</td>\n",
       "      <td>1.73</td>\n",
       "      <td>1.35</td>\n",
       "      <td>1.46</td>\n",
       "      <td>123282000</td>\n",
       "      <td>0.00</td>\n",
       "      <td>0.00</td>\n",
       "    </tr>\n",
       "    <tr>\n",
       "      <th>3</th>\n",
       "      <td>2010-07-02 00:00:00-04:00</td>\n",
       "      <td>1.53</td>\n",
       "      <td>1.54</td>\n",
       "      <td>1.25</td>\n",
       "      <td>1.28</td>\n",
       "      <td>77097000</td>\n",
       "      <td>0.00</td>\n",
       "      <td>0.00</td>\n",
       "    </tr>\n",
       "    <tr>\n",
       "      <th>4</th>\n",
       "      <td>2010-07-06 00:00:00-04:00</td>\n",
       "      <td>1.33</td>\n",
       "      <td>1.33</td>\n",
       "      <td>1.06</td>\n",
       "      <td>1.07</td>\n",
       "      <td>103003500</td>\n",
       "      <td>0.00</td>\n",
       "      <td>0.00</td>\n",
       "    </tr>\n",
       "  </tbody>\n",
       "</table>\n",
       "</div>"
      ],
      "text/plain": [
       "                       Date  Open  High  Low  Close     Volume  Dividends  \\\n",
       "0 2010-06-29 00:00:00-04:00  1.27  1.67 1.17   1.59  281494500       0.00   \n",
       "1 2010-06-30 00:00:00-04:00  1.72  2.03 1.55   1.59  257806500       0.00   \n",
       "2 2010-07-01 00:00:00-04:00  1.67  1.73 1.35   1.46  123282000       0.00   \n",
       "3 2010-07-02 00:00:00-04:00  1.53  1.54 1.25   1.28   77097000       0.00   \n",
       "4 2010-07-06 00:00:00-04:00  1.33  1.33 1.06   1.07  103003500       0.00   \n",
       "\n",
       "   Stock Splits  \n",
       "0          0.00  \n",
       "1          0.00  \n",
       "2          0.00  \n",
       "3          0.00  \n",
       "4          0.00  "
      ]
     },
     "execution_count": 25,
     "metadata": {},
     "output_type": "execute_result"
    }
   ],
   "source": [
    "import yfinance as yf\n",
    "\n",
    "# Download Tesla stock data\n",
    "tesla = yf.Ticker(\"TSLA\")\n",
    "history = tesla.history(period=\"max\")\n",
    "\n",
    "# Reset index and keep only the Date column\n",
    "history.reset_index(inplace=True)\n",
    "\n",
    "# Display the first five rows of the dataframe\n",
    "history.head()\n"
   ]
  },
  {
   "cell_type": "markdown",
   "id": "bf4f2853-43c0-4efa-b15e-fbc144192539",
   "metadata": {
    "tags": []
   },
   "source": [
    "**Webscraping to Extract Tesla Revenue Data**"
   ]
  },
  {
   "cell_type": "code",
   "execution_count": null,
   "id": "4c672e6f-0dfa-43f0-a7f4-9c2a6f7a8c4e",
   "metadata": {},
   "outputs": [
    {
     "name": "stdout",
     "output_type": "stream",
     "text": [
      "    Date Revenue\n",
      "9   2013    2013\n",
      "10  2012     413\n",
      "11  2011     204\n",
      "12  2010     117\n",
      "13  2009     112\n"
     ]
    }
   ],
   "source": [
    "import requests\n",
    "from bs4 import BeautifulSoup\n",
    "import pandas as pd\n",
    "\n",
    "# send a request to the website\n",
    "url = \"https://www.macrotrends.net/stocks/charts/TSLA/tesla/revenue\"\n",
    "html_content = requests.get(url).text\n",
    "\n",
    "# parse the html content\n",
    "soup = BeautifulSoup(html_content, \"html.parser\")\n",
    "\n",
    "# find the table containing the data\n",
    "table = soup.find(\"table\", {\"class\": \"historical_data_table\"})\n",
    "\n",
    "# create lists to store the data\n",
    "dates = []\n",
    "revenues = []\n",
    "\n",
    "# loop through each row of the table and append the data to the lists\n",
    "for row in table.tbody.find_all(\"tr\"):\n",
    "    cols = row.find_all(\"td\")\n",
    "    if len(cols) == 0:\n",
    "        continue\n",
    "    dates.append(cols[0].text.strip())\n",
    "    revenues.append(cols[1].text.replace(\"$\", \"\").replace(\",\", \"\").strip())\n",
    "\n",
    "# create a dataframe from the data\n",
    "tesla_revenue = pd.DataFrame({\"Date\": dates, \"Revenue\": revenues})\n",
    "\n",
    "# display the last five rows of the dataframe\n",
    "print(tesla_revenue.tail())"
   ]
  },
  {
   "cell_type": "markdown",
   "id": "4e018a06-afd1-4276-9761-de2b9348ea37",
   "metadata": {},
   "source": [
    "**Extract Stock Data GME**"
   ]
  },
  {
   "cell_type": "code",
   "execution_count": null,
   "id": "b4656680-a92e-455a-acc8-156ad2a11ac0",
   "metadata": {
    "tags": []
   },
   "outputs": [
    {
     "data": {
      "text/html": [
       "<div>\n",
       "<style scoped>\n",
       "    .dataframe tbody tr th:only-of-type {\n",
       "        vertical-align: middle;\n",
       "    }\n",
       "\n",
       "    .dataframe tbody tr th {\n",
       "        vertical-align: top;\n",
       "    }\n",
       "\n",
       "    .dataframe thead th {\n",
       "        text-align: right;\n",
       "    }\n",
       "</style>\n",
       "<table border=\"1\" class=\"dataframe\">\n",
       "  <thead>\n",
       "    <tr style=\"text-align: right;\">\n",
       "      <th></th>\n",
       "      <th>Date</th>\n",
       "      <th>Open</th>\n",
       "      <th>High</th>\n",
       "      <th>Low</th>\n",
       "      <th>Close</th>\n",
       "      <th>Volume</th>\n",
       "      <th>Dividends</th>\n",
       "      <th>Stock Splits</th>\n",
       "    </tr>\n",
       "  </thead>\n",
       "  <tbody>\n",
       "    <tr>\n",
       "      <th>0</th>\n",
       "      <td>2002-02-13 00:00:00-05:00</td>\n",
       "      <td>1.62</td>\n",
       "      <td>1.69</td>\n",
       "      <td>1.60</td>\n",
       "      <td>1.69</td>\n",
       "      <td>76216000</td>\n",
       "      <td>0.00</td>\n",
       "      <td>0.00</td>\n",
       "    </tr>\n",
       "    <tr>\n",
       "      <th>1</th>\n",
       "      <td>2002-02-14 00:00:00-05:00</td>\n",
       "      <td>1.71</td>\n",
       "      <td>1.72</td>\n",
       "      <td>1.67</td>\n",
       "      <td>1.68</td>\n",
       "      <td>11021600</td>\n",
       "      <td>0.00</td>\n",
       "      <td>0.00</td>\n",
       "    </tr>\n",
       "    <tr>\n",
       "      <th>2</th>\n",
       "      <td>2002-02-15 00:00:00-05:00</td>\n",
       "      <td>1.68</td>\n",
       "      <td>1.69</td>\n",
       "      <td>1.66</td>\n",
       "      <td>1.67</td>\n",
       "      <td>8389600</td>\n",
       "      <td>0.00</td>\n",
       "      <td>0.00</td>\n",
       "    </tr>\n",
       "    <tr>\n",
       "      <th>3</th>\n",
       "      <td>2002-02-19 00:00:00-05:00</td>\n",
       "      <td>1.67</td>\n",
       "      <td>1.67</td>\n",
       "      <td>1.58</td>\n",
       "      <td>1.61</td>\n",
       "      <td>7410400</td>\n",
       "      <td>0.00</td>\n",
       "      <td>0.00</td>\n",
       "    </tr>\n",
       "    <tr>\n",
       "      <th>4</th>\n",
       "      <td>2002-02-20 00:00:00-05:00</td>\n",
       "      <td>1.62</td>\n",
       "      <td>1.66</td>\n",
       "      <td>1.60</td>\n",
       "      <td>1.66</td>\n",
       "      <td>6892800</td>\n",
       "      <td>0.00</td>\n",
       "      <td>0.00</td>\n",
       "    </tr>\n",
       "  </tbody>\n",
       "</table>\n",
       "</div>"
      ],
      "text/plain": [
       "                       Date  Open  High  Low  Close    Volume  Dividends  \\\n",
       "0 2002-02-13 00:00:00-05:00  1.62  1.69 1.60   1.69  76216000       0.00   \n",
       "1 2002-02-14 00:00:00-05:00  1.71  1.72 1.67   1.68  11021600       0.00   \n",
       "2 2002-02-15 00:00:00-05:00  1.68  1.69 1.66   1.67   8389600       0.00   \n",
       "3 2002-02-19 00:00:00-05:00  1.67  1.67 1.58   1.61   7410400       0.00   \n",
       "4 2002-02-20 00:00:00-05:00  1.62  1.66 1.60   1.66   6892800       0.00   \n",
       "\n",
       "   Stock Splits  \n",
       "0          0.00  \n",
       "1          0.00  \n",
       "2          0.00  \n",
       "3          0.00  \n",
       "4          0.00  "
      ]
     },
     "execution_count": 43,
     "metadata": {},
     "output_type": "execute_result"
    }
   ],
   "source": [
    "import yfinance as yf\n",
    "\n",
    "# Use yfinance to extract GME data\n",
    "gme = yf.Ticker(\"GME\")\n",
    "gme_data = gme.history(period=\"max\")\n",
    "\n",
    "# Reset the index and display the first five rows\n",
    "gme_data.reset_index(inplace=True)\n",
    "gme_data.head()\n"
   ]
  },
  {
   "cell_type": "markdown",
   "id": "974840c1-e77e-413b-a6d8-1e1fe38468e1",
   "metadata": {
    "tags": []
   },
   "source": [
    "**Webscraping to Extract Tesla Revenue Data**"
   ]
  },
  {
   "cell_type": "code",
   "execution_count": 72,
   "id": "164bb314-f99f-489d-a89d-19b07552c8b7",
   "metadata": {},
   "outputs": [
    {
     "name": "stdout",
     "output_type": "stream",
     "text": [
      "        Date Revenue\n",
      "4 2019-01-01    8285\n",
      "3 2020-01-01    6466\n",
      "2 2021-01-01    5090\n",
      "1 2022-01-01    6011\n",
      "0 2023-01-01    5927\n"
     ]
    }
   ],
   "source": [
    "import requests\n",
    "from bs4 import BeautifulSoup\n",
    "import pandas as pd\n",
    "\n",
    "# send a request to the website\n",
    "url = \"https://www.macrotrends.net/stocks/charts/GME/gamestop/revenue\"\n",
    "html_content = requests.get(url).text\n",
    "\n",
    "# parse the html content\n",
    "soup = BeautifulSoup(html_content, \"html.parser\")\n",
    "\n",
    "# find the table containing the data\n",
    "table = soup.find(\"table\", {\"class\": \"historical_data_table\"})\n",
    "\n",
    "# create lists to store the data\n",
    "dates = []\n",
    "revenues = []\n",
    "\n",
    "# loop through each row of the table and append the data to the lists\n",
    "for row in table.tbody.find_all(\"tr\"):\n",
    "    cols = row.find_all(\"td\")\n",
    "    if len(cols) == 0:\n",
    "        continue\n",
    "    dates.append(cols[0].text.strip())\n",
    "    revenues.append(cols[1].text.replace(\"$\", \"\").replace(\",\", \"\").strip())\n",
    "\n",
    "# create a dataframe from the data\n",
    "gme_revenue = pd.DataFrame({\"Date\": dates, \"Revenue\": revenues})\n",
    "\n",
    "# convert the date column to datetime format\n",
    "gme_revenue[\"Date\"] = pd.to_datetime(gme_revenue[\"Date\"])\n",
    "\n",
    "# sort the data by date\n",
    "gme_revenue.sort_values(\"Date\", inplace=True)\n",
    "\n",
    "# display the last five rows of the dataframe\n",
    "print(gme_revenue.tail())\n"
   ]
  },
  {
   "cell_type": "markdown",
   "id": "fb1fc033-5911-4ecf-895b-308011d977e8",
   "metadata": {
    "tags": []
   },
   "source": [
    "**Tesla Stock Graph**"
   ]
  },
  {
   "cell_type": "code",
   "execution_count": 74,
   "id": "544f20f1-52cc-4e57-bde1-124d1f64e222",
   "metadata": {
    "tags": []
   },
   "outputs": [
    {
     "data": {
      "image/png": "[encoded data removed]",
      "text/plain": [
       "<Figure size 640x480 with 1 Axes>"
      ]
     },
     "metadata": {},
     "output_type": "display_data"
    }
   ],
   "source": [
    "import requests\n",
    "from bs4 import BeautifulSoup\n",
    "import pandas as pd\n",
    "import matplotlib.pyplot as plt\n",
    "\n",
    "# send a request to the website\n",
    "url = \"https://www.macrotrends.net/stocks/charts/TSLA/tesla/revenue\"\n",
    "html_content = requests.get(url).text\n",
    "\n",
    "# parse the html content\n",
    "soup = BeautifulSoup(html_content, \"html.parser\")\n",
    "\n",
    "# find the table containing the data\n",
    "table = soup.find(\"table\", {\"class\": \"historical_data_table\"})\n",
    "\n",
    "# create lists to store the data\n",
    "dates = []\n",
    "revenues = []\n",
    "\n",
    "# loop through each row of the table and append the data to the lists\n",
    "for row in table.tbody.find_all(\"tr\"):\n",
    "    cols = row.find_all(\"td\")\n",
    "    if len(cols) == 0:\n",
    "        continue\n",
    "    dates.append(cols[0].text.strip())\n",
    "    revenues.append(cols[1].text.replace(\"$\", \"\").replace(\",\", \"\").strip())\n",
    "\n",
    "# create a dataframe from the data\n",
    "tesla_revenue = pd.DataFrame({\"Date\": dates, \"Revenue\": revenues})\n",
    "\n",
    "# convert the date column to datetime format\n",
    "tesla_revenue[\"Date\"] = pd.to_datetime(tesla_revenue[\"Date\"])\n",
    "\n",
    "# sort the data by date\n",
    "tesla_revenue.sort_values(\"Date\", inplace=True)\n",
    "\n",
    "# plot the data\n",
    "plt.plot(tesla_revenue[\"Date\"], tesla_revenue[\"Revenue\"])\n",
    "plt.title(\"Tesla Revenue Over Time\")\n",
    "plt.xlabel(\"Date\")\n",
    "plt.ylabel(\"Revenue (in millions of USD)\")\n",
    "plt.show()\n"
   ]
  },
  {
   "cell_type": "code",
   "execution_count": null,
   "id": "5342a46b-4c0d-4413-8863-09f74bf05511",
   "metadata": {},
   "outputs": [
    {
     "data": {
      "image/png": "[encoded data removed]",
      "text/plain": [
       "<Figure size 640x480 with 1 Axes>"
      ]
     },
     "metadata": {},
     "output_type": "display_data"
    }
   ],
   "source": [
    "import requests\n",
    "from bs4 import BeautifulSoup\n",
    "import pandas as pd\n",
    "import matplotlib.pyplot as plt\n",
    "\n",
    "# send a request to the website\n",
    "url = \"https://www.macrotrends.net/stocks/charts/GME/gamestop/revenue\"\n",
    "html_content = requests.get(url).text\n",
    "\n",
    "# parse the html content\n",
    "soup = BeautifulSoup(html_content, \"html.parser\")\n",
    "\n",
    "# find the table containing the data\n",
    "table = soup.find(\"table\", {\"class\": \"historical_data_table\"})\n",
    "\n",
    "# create lists to store the data\n",
    "dates = []\n",
    "revenues = []\n",
    "\n",
    "# loop through each row of the table and append the data to the lists\n",
    "for row in table.tbody.find_all(\"tr\"):\n",
    "    cols = row.find_all(\"td\")\n",
    "    if len(cols) == 0:\n",
    "        continue\n",
    "    dates.append(cols[0].text.strip())\n",
    "    revenues.append(cols[1].text.replace(\"$\", \"\").replace(\",\", \"\").strip())\n",
    "\n",
    "# create a dataframe from the data\n",
    "gme_revenue = pd.DataFrame({\"Date\": dates, \"Revenue\": revenues})\n",
    "\n",
    "# convert the date column to datetime format\n",
    "gme_revenue[\"Date\"] = pd.to_datetime(gme_revenue[\"Date\"])\n",
    "\n",
    "# sort the data by date\n",
    "gme_revenue.sort_values(\"Date\", inplace=True)\n",
    "\n",
    "# plot the data\n",
    "plt.plot(gme_revenue[\"Date\"], gme_revenue[\"Revenue\"])\n",
    "plt.title(\"GameStop Revenue Over Time\")\n",
    "plt.xlabel(\"Date\")\n",
    "plt.ylabel(\"Revenue (in millions of USD)\")\n",
    "plt.show()\n"
   ]
  },
  {
   "cell_type": "code",
   "execution_count": null,
   "id": "81eb7d22-8152-40bc-9990-24f7d8713703",
   "metadata": {},
   "outputs": [],
   "source": []
  }
 ],
 "metadata": {
  "kernelspec": {
   "display_name": "Python",
   "language": "python",
   "name": "conda-env-python-py"
  },
  "language_info": {
   "codemirror_mode": {
    "name": "ipython",
    "version": 3
   },
   "file_extension": ".py",
   "mimetype": "text/x-python",
   "name": "python",
   "nbconvert_exporter": "python",
   "pygments_lexer": "ipython3",
   "version": "3.7.12"
  }
 },
 "nbformat": 4,
 "nbformat_minor": 5
}
